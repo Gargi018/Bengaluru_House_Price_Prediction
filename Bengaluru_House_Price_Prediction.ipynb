{
 "cells": [
  {
   "cell_type": "code",
   "execution_count": null,
   "id": "274b1fca",
   "metadata": {},
   "outputs": [],
   "source": [
    "import numpy as np\n",
    "import pandas as pd\n",
    "import matplotlib.pyplot as plt\n",
    "import seaborn as sns\n",
    "import warnings\n",
    "warnings.filterwarnings('ignore')"
   ]
  },
  {
   "cell_type": "code",
   "execution_count": null,
   "id": "6c8caa7d",
   "metadata": {},
   "outputs": [],
   "source": [
    "data = pd.read_csv('Bengaluru_House_Data.csv')\n",
    "data.shape"
   ]
  },
  {
   "cell_type": "code",
   "execution_count": null,
   "id": "93121526",
   "metadata": {},
   "outputs": [],
   "source": [
    "data.info()"
   ]
  },
  {
   "cell_type": "code",
   "execution_count": null,
   "id": "8fa6d187",
   "metadata": {},
   "outputs": [],
   "source": [
    "data_new = data.drop(labels='society' , axis=1)\n",
    "data_new"
   ]
  },
  {
   "cell_type": "code",
   "execution_count": null,
   "id": "0e9c2db9",
   "metadata": {},
   "outputs": [],
   "source": [
    "plt.figure(figsize=(10,10))\n",
    "data_new.area_type.value_counts().plot(kind='pie')"
   ]
  },
  {
   "cell_type": "code",
   "execution_count": null,
   "id": "2de1454a",
   "metadata": {},
   "outputs": [],
   "source": [
    "data_new.location.value_counts()"
   ]
  },
  {
   "cell_type": "code",
   "execution_count": null,
   "id": "37bde89c",
   "metadata": {},
   "outputs": [],
   "source": [
    "data_new.bath.value_counts()"
   ]
  },
  {
   "cell_type": "code",
   "execution_count": null,
   "id": "775a8bdf",
   "metadata": {},
   "outputs": [],
   "source": [
    "data_new.balcony.value_counts()"
   ]
  },
  {
   "cell_type": "code",
   "execution_count": null,
   "id": "65addc20",
   "metadata": {},
   "outputs": [],
   "source": [
    "plt.figure(figsize=(10,10))\n",
    "data_new.availability.value_counts().plot.pie()"
   ]
  },
  {
   "cell_type": "code",
   "execution_count": null,
   "id": "a0b750f5",
   "metadata": {},
   "outputs": [],
   "source": [
    "pd.crosstab(data_new.bath , data_new.balcony).plot.bar(figsize=(10,10) , ylabel='Frequency')"
   ]
  },
  {
   "cell_type": "code",
   "execution_count": null,
   "id": "162ad1d3",
   "metadata": {},
   "outputs": [],
   "source": [
    "pd.crosstab(data_new.area_type , data_new.balcony).plot.bar(figsize=(8,8))"
   ]
  },
  {
   "cell_type": "code",
   "execution_count": null,
   "id": "328246fa",
   "metadata": {},
   "outputs": [],
   "source": [
    "data_new.bath = data_new.bath.fillna(data.bath.median())\n",
    "data_new.balcony = data_new.balcony.fillna(data.balcony.median())"
   ]
  },
  {
   "cell_type": "code",
   "execution_count": null,
   "id": "069be180",
   "metadata": {},
   "outputs": [],
   "source": [
    "data_new.isna().sum()"
   ]
  },
  {
   "cell_type": "code",
   "execution_count": null,
   "id": "06d5c7dd",
   "metadata": {},
   "outputs": [],
   "source": [
    "data_new = data_new.dropna()\n",
    "data_new.isna().sum()"
   ]
  },
  {
   "cell_type": "code",
   "execution_count": null,
   "id": "8dc23026",
   "metadata": {},
   "outputs": [],
   "source": [
    "# Converting the size column to bhk\n",
    "# data['bhk'] = data['size'].apply(lambda x: int(x.split(' ')[0]))\n",
    "# data = data.drop('size', axis='columns')\n",
    "# data.groupby('bhk')['bhk'].agg('count')"
   ]
  },
  {
   "cell_type": "code",
   "execution_count": null,
   "id": "ad42cecf",
   "metadata": {},
   "outputs": [],
   "source": [
    "data_new.total_sqft.unique()"
   ]
  },
  {
   "cell_type": "code",
   "execution_count": null,
   "id": "00d4b499",
   "metadata": {},
   "outputs": [],
   "source": [
    "# here we have range values so we will filter them out\n",
    "def isFloat(x):\n",
    "    try:\n",
    "        float(x)\n",
    "    except:\n",
    "        return False\n",
    "    return True"
   ]
  },
  {
   "cell_type": "code",
   "execution_count": null,
   "id": "a8984f0b",
   "metadata": {},
   "outputs": [],
   "source": [
    "data_new[~data_new['total_sqft'].apply(isFloat)]"
   ]
  },
  {
   "cell_type": "code",
   "execution_count": null,
   "id": "2e04b5a6",
   "metadata": {},
   "outputs": [],
   "source": [
    "def convert_sqft_to_num(x):\n",
    "  val = x.split('-')\n",
    "  if len(val)==2:\n",
    "    return (float(val[0])+float(val[1]))/2\n",
    "  try:\n",
    "    return float(x)\n",
    "  except:\n",
    "    return None"
   ]
  },
  {
   "cell_type": "code",
   "execution_count": null,
   "id": "6cb77f2c",
   "metadata": {},
   "outputs": [],
   "source": [
    "data_new['new_total_sqft'] = data_new.total_sqft.apply(convert_sqft_to_num)\n",
    "data_new = data_new.drop('total_sqft' , axis='columns')\n",
    "data_new.head()"
   ]
  },
  {
   "cell_type": "code",
   "execution_count": null,
   "id": "21a51bd1",
   "metadata": {},
   "outputs": [],
   "source": [
    "#  Since we have returned with certain none values we will try to remove them\n",
    "data_new.new_total_sqft.isna().sum()"
   ]
  },
  {
   "cell_type": "code",
   "execution_count": null,
   "id": "bc75925c",
   "metadata": {},
   "outputs": [],
   "source": [
    "# we have 46 none values \n",
    "data_new = data_new.dropna()"
   ]
  },
  {
   "cell_type": "code",
   "execution_count": null,
   "id": "e5b144b4",
   "metadata": {},
   "outputs": [],
   "source": [
    "# again checking for none values\n",
    "data_new.new_total_sqft.isna().sum()"
   ]
  },
  {
   "cell_type": "code",
   "execution_count": null,
   "id": "3387305f",
   "metadata": {},
   "outputs": [],
   "source": [
    "# we will once agin check for any null values in our modified data\n",
    "data_new.isna().sum()"
   ]
  },
  {
   "cell_type": "code",
   "execution_count": null,
   "id": "6730f692",
   "metadata": {},
   "outputs": [],
   "source": [
    "# Adding a new column price_per_sqft\n",
    "\n",
    "data_new1 = data_new.copy()\n",
    "data_new1['price_per_sqft'] = data_new1['price']*100000/data_new1['new_total_sqft']\n",
    "data_new1.head()\n",
    "\n",
    "# here we have multiplied 100000 because the price given is in lakhs."
   ]
  },
  {
   "cell_type": "code",
   "execution_count": null,
   "id": "4609d5e1",
   "metadata": {},
   "outputs": [],
   "source": [
    "len(data_new1.location.unique())"
   ]
  },
  {
   "cell_type": "code",
   "execution_count": null,
   "id": "403ab4aa",
   "metadata": {},
   "outputs": [],
   "source": [
    "data_new1.location = data_new1.location.apply(lambda x: x.strip())\n",
    "lvc = data_new1.location.value_counts()\n",
    "lvc"
   ]
  },
  {
   "cell_type": "code",
   "execution_count": null,
   "id": "c8ed2884",
   "metadata": {},
   "outputs": [],
   "source": [
    "data_new1.location = data_new1.location.apply(lambda x: x.strip())\n",
    "len(lvc[lvc<=10]), len(data_new1.location.unique())"
   ]
  },
  {
   "cell_type": "code",
   "execution_count": null,
   "id": "8f8c8241",
   "metadata": {},
   "outputs": [],
   "source": [
    "# labelling the locations with less then or equal to 10 occurences to 'other'\n",
    "locations_less_than_10 = lvc[lvc<=10]\n",
    "\n",
    "data_new1.location = data_new1.location.apply(lambda x: 'other' if x in locations_less_than_10 else x)\n",
    "len(data_new1.location.unique())"
   ]
  },
  {
   "cell_type": "code",
   "execution_count": null,
   "id": "adabcb5d",
   "metadata": {},
   "outputs": [],
   "source": [
    "# checking the unique values in 'availability column'\n",
    "# data_new1.groupby('availability')['availability'].agg('count').sort_values(ascending=False)\n",
    "avc = data_new1.availability.value_counts()\n",
    "avc"
   ]
  },
  {
   "cell_type": "code",
   "execution_count": null,
   "id": "04296421",
   "metadata": {},
   "outputs": [],
   "source": [
    "# labelling the dates into not ready\n",
    "dates = data_new1.groupby('availability')['availability'].agg('count').sort_values(ascending=False)\n",
    "\n",
    "dates_not_ready = dates[dates<10000]\n",
    "data_new1.availability = data_new1.availability.apply(lambda x: 'Not Ready' if x in dates_not_ready else x)\n",
    "\n",
    "len(data_new1.availability.unique())"
   ]
  },
  {
   "cell_type": "code",
   "execution_count": null,
   "id": "315d1800",
   "metadata": {},
   "outputs": [],
   "source": [
    "# Checking the unique values in 'area_type' column\n",
    "data_new1.groupby('area_type')['area_type'].agg('count').sort_values(ascending=False)\n",
    "\n",
    "# Since the column has only few unique values, we don't perform any operation"
   ]
  },
  {
   "cell_type": "code",
   "execution_count": null,
   "id": "2fc306a0",
   "metadata": {},
   "outputs": [],
   "source": [
    "# Converting the size column to bhk\n",
    "data_new1['bhk'] = data_new1['size'].apply(lambda x: int(x.split(' ')[0]))\n",
    "data_new1 = data_new1.drop('size', axis='columns')\n",
    "data_new1.groupby('bhk')['bhk'].agg('count')"
   ]
  },
  {
   "cell_type": "code",
   "execution_count": null,
   "id": "c4894947",
   "metadata": {},
   "outputs": [],
   "source": [
    "data_new2 = data_new1[~(data_new1.new_total_sqft/data_new1.bhk<300)]\n",
    "len(data_new2) , len(data_new1)"
   ]
  },
  {
   "cell_type": "code",
   "execution_count": null,
   "id": "b46cebe6",
   "metadata": {},
   "outputs": [],
   "source": [
    "data_new2.price_per_sqft.describe()"
   ]
  },
  {
   "cell_type": "code",
   "execution_count": null,
   "id": "8f61ea83",
   "metadata": {},
   "outputs": [],
   "source": [
    "plt.scatter(data_new2.price_per_sqft , data_new2.bhk)\n",
    "plt.show()"
   ]
  },
  {
   "cell_type": "code",
   "execution_count": null,
   "id": "bbf586ba",
   "metadata": {},
   "outputs": [],
   "source": [
    "plt.plot(data_new2.price_per_sqft , data_new2.location)\n",
    "plt.show()"
   ]
  },
  {
   "cell_type": "code",
   "execution_count": null,
   "id": "2dc04e84",
   "metadata": {},
   "outputs": [],
   "source": [
    "def remove_pps_outliers(data_new2):\n",
    "  data_out = pd.DataFrame()\n",
    "\n",
    "  for key, sub_data in data_new2.groupby('location'):\n",
    "    mean = np.mean(sub_data.price_per_sqft)\n",
    "    std_dev = np.std(sub_data.price_per_sqft)\n",
    "    reduce_data = sub_data[(sub_data.price_per_sqft>(mean-std_dev)) & (sub_data.price_per_sqft<(mean+std_dev))]\n",
    "    data_out = pd.concat([data_out, reduce_data], ignore_index=True)\n",
    "  return data_out\n",
    "\n",
    "data_new3 = remove_pps_outliers(data_new2)\n",
    "len(data_new2) , len(data_new3)"
   ]
  },
  {
   "cell_type": "code",
   "execution_count": null,
   "id": "30e319dc",
   "metadata": {},
   "outputs": [],
   "source": [
    "def plot_scatter_chart(data , location):\n",
    "  bhk2 = data_new1[(data_new1.location== location) & (data_new1.bhk == 2)]\n",
    "  bhk3 = data_new1[(data_new1.location== location) & (data_new1.bhk == 3)]\n",
    "  plt.figure(figsize=(15,10))\n",
    "  plt.scatter(bhk2.new_total_sqft, bhk2.price, color='blue', label='2 BHK', s=50)\n",
    "  plt.scatter(bhk3.new_total_sqft, bhk3.price, color='green', marker='+', label='3 BHK', s=50)\n",
    "  plt.xlabel('Total Square feet Area')\n",
    "  plt.ylabel('Price(in lakhs)')\n",
    "  plt.title('location')\n",
    "  plt.legend()\n",
    "  # print(bhk2)\n",
    "  # print(bhk3)\n",
    "\n",
    "plot_scatter_chart(data_new3 , 'Whitefield')"
   ]
  },
  {
   "cell_type": "code",
   "execution_count": null,
   "id": "2171071e",
   "metadata": {},
   "outputs": [],
   "source": [
    "plt.hist(data_new3.price_per_sqft , rwidth=0.5)\n",
    "plt.show()"
   ]
  },
  {
   "cell_type": "code",
   "execution_count": null,
   "id": "79a21c4f",
   "metadata": {},
   "outputs": [],
   "source": [
    "plt.hist(data_new3.bath, rwidth=0.5)\n",
    "plt.show()"
   ]
  },
  {
   "cell_type": "code",
   "execution_count": null,
   "id": "cfc88106",
   "metadata": {},
   "outputs": [],
   "source": [
    "# removing the columns that were added just for preparation of our data\n",
    "data_new4 = data_new3.drop('price_per_sqft', axis='columns')"
   ]
  },
  {
   "cell_type": "code",
   "execution_count": null,
   "id": "cb07982a",
   "metadata": {},
   "outputs": [],
   "source": [
    "data_new4"
   ]
  },
  {
   "cell_type": "code",
   "execution_count": null,
   "id": "099ca99e",
   "metadata": {},
   "outputs": [],
   "source": [
    "dummy_cols = pd.get_dummies(data_new4.location).drop('other', axis='columns')\n",
    "data_new4 = pd.concat([data_new4,dummy_cols], axis='columns')"
   ]
  },
  {
   "cell_type": "code",
   "execution_count": null,
   "id": "8e91f34c",
   "metadata": {},
   "outputs": [],
   "source": [
    "dummy_cols = pd.get_dummies(data_new4.availability).drop('Not Ready', axis='columns')\n",
    "data_new4 = pd.concat([data_new4,dummy_cols], axis='columns')"
   ]
  },
  {
   "cell_type": "code",
   "execution_count": null,
   "id": "b4a7773e",
   "metadata": {},
   "outputs": [],
   "source": [
    "dummy_cols = pd.get_dummies(data_new4.area_type).drop('Super built-up  Area', axis='columns')\n",
    "data_new4 = pd.concat([data_new4,dummy_cols], axis='columns')"
   ]
  },
  {
   "cell_type": "code",
   "execution_count": null,
   "id": "72a06d1d",
   "metadata": {},
   "outputs": [],
   "source": [
    "data_new5 = data_new4.drop(['area_type','availability','location'], axis='columns')\n",
    "data_new5.head()"
   ]
  },
  {
   "cell_type": "code",
   "execution_count": null,
   "id": "fa644e23",
   "metadata": {},
   "outputs": [],
   "source": [
    "# Splitting the dataset into features and label\n",
    "X = data_new5.drop('price', axis='columns')\n",
    "y = data_new5['price']"
   ]
  },
  {
   "cell_type": "code",
   "execution_count": null,
   "id": "affe304b",
   "metadata": {},
   "outputs": [],
   "source": [
    "from sklearn.model_selection import train_test_split\n",
    "x_test,x_train,y_test,y_train = train_test_split(X,y)"
   ]
  },
  {
   "cell_type": "code",
   "execution_count": null,
   "id": "ee37599b",
   "metadata": {},
   "outputs": [],
   "source": [
    "from sklearn.model_selection import GridSearchCV\n",
    "from sklearn.model_selection import ShuffleSplit\n",
    "from sklearn.linear_model import LinearRegression\n",
    "from sklearn.tree import DecisionTreeRegressor\n",
    "from sklearn.metrics import r2_score, mean_squared_error, accuracy_score"
   ]
  },
  {
   "cell_type": "code",
   "execution_count": null,
   "id": "f835bfe9",
   "metadata": {},
   "outputs": [],
   "source": [
    "lin_reg = LinearRegression()\n",
    "lin_reg.fit(x_train,y_train)"
   ]
  },
  {
   "cell_type": "code",
   "execution_count": null,
   "id": "d61208af",
   "metadata": {},
   "outputs": [],
   "source": [
    "y_pred_1 = lin_reg.predict(x_test)"
   ]
  },
  {
   "cell_type": "code",
   "execution_count": null,
   "id": "83826aea",
   "metadata": {},
   "outputs": [],
   "source": [
    "r2_score(y_test,y_pred_1)"
   ]
  },
  {
   "cell_type": "code",
   "execution_count": null,
   "id": "70e2fe0e",
   "metadata": {},
   "outputs": [],
   "source": [
    "dtr = DecisionTreeRegressor()\n",
    "dtr.fit(x_train,y_train)"
   ]
  },
  {
   "cell_type": "code",
   "execution_count": null,
   "id": "b809d489",
   "metadata": {},
   "outputs": [],
   "source": [
    "y_pred_2 = dtr.predict(x_test)"
   ]
  },
  {
   "cell_type": "code",
   "execution_count": null,
   "id": "ed6e0aa3",
   "metadata": {},
   "outputs": [],
   "source": [
    "r2_score(y_test,y_pred_2)"
   ]
  },
  {
   "cell_type": "code",
   "execution_count": null,
   "id": "b4ce1c7f",
   "metadata": {},
   "outputs": [],
   "source": [
    "def find_best_model(X,y):\n",
    "    models = {\n",
    "        'linear_regression': {\n",
    "            'model': LinearRegression(),\n",
    "            'parameters': {\n",
    "                'normalize': [True,False]\n",
    "            }\n",
    "        },\n",
    "        \n",
    "        # 'lasso': {\n",
    "        #     'model': Lasso(),\n",
    "        #     'parameters': {\n",
    "        #         'alpha': [1,2],\n",
    "        #         'selection': ['random', 'cyclic']\n",
    "        #     }\n",
    "        # },\n",
    "        \n",
    "        'decision_tree': {\n",
    "            'model': DecisionTreeRegressor(),\n",
    "            'parameters': {\n",
    "                'criterion': ['mse', 'friedman_mse'],\n",
    "                'splitter': ['best', 'random']\n",
    "            }\n",
    "        }\n",
    "    }\n",
    "    \n",
    "    scores = []\n",
    "    cv_X_y = ShuffleSplit(n_splits=5, test_size=0.20, random_state=0)\n",
    "    \n",
    "    for model_name, model_params in models.items():\n",
    "        gs = GridSearchCV(model_params['model'], model_params['parameters'], cv=cv_X_y, return_train_score=False)\n",
    "        gs.fit(X,y)\n",
    "        scores.append({\n",
    "            'model': model_name,\n",
    "            'best_parameters': gs.best_params_,\n",
    "            'accuracy': gs.best_score_\n",
    "        })\n",
    "        \n",
    "    return pd.DataFrame(scores, columns=['model', 'best_parameters', 'accuracy'])\n",
    "\n",
    "find_best_model(X, y)"
   ]
  },
  {
   "cell_type": "code",
   "execution_count": null,
   "id": "22eedfd4",
   "metadata": {},
   "outputs": [],
   "source": [
    "pd.DataFrame({'Coefficients':lin_reg.coef_})"
   ]
  },
  {
   "cell_type": "code",
   "execution_count": null,
   "id": "98ae4266",
   "metadata": {},
   "outputs": [],
   "source": [
    "lin_reg.intercept_"
   ]
  }
 ],
 "metadata": {
  "kernelspec": {
   "display_name": "Python 3 (ipykernel)",
   "language": "python",
   "name": "python3"
  },
  "language_info": {
   "codemirror_mode": {
    "name": "ipython",
    "version": 3
   },
   "file_extension": ".py",
   "mimetype": "text/x-python",
   "name": "python",
   "nbconvert_exporter": "python",
   "pygments_lexer": "ipython3",
   "version": "3.9.12"
  }
 },
 "nbformat": 4,
 "nbformat_minor": 5
}
